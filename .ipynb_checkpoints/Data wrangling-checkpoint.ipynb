{
 "cells": [
  {
   "cell_type": "code",
   "execution_count": 1,
   "id": "asian-place",
   "metadata": {},
   "outputs": [],
   "source": [
    "# libraries\n",
    "\n",
    "import numpy as np\n",
    "import random\n",
    "import pandas as pd\n",
    "import matplotlib.pyplot as plt\n",
    "import seaborn as sns\n",
    "\n",
    "from sklearn.model_selection import train_test_split\n",
    "from sklearn.preprocessing import StandardScaler\n",
    "\n",
    "from sklearn.linear_model import LogisticRegression\n",
    "\n",
    "from sklearn.tree import DecisionTreeClassifier\n",
    "\n",
    "# import xgboost as xgb\n",
    "#XGBClassifier \n",
    "# error in installation\n",
    "\n",
    "import warnings"
   ]
  },
  {
   "cell_type": "code",
   "execution_count": 2,
   "id": "southeast-enforcement",
   "metadata": {},
   "outputs": [],
   "source": [
    "# set warning off\n",
    "warnings.filterwarnings(\"ignore\")"
   ]
  },
  {
   "cell_type": "markdown",
   "id": "corresponding-raising",
   "metadata": {},
   "source": [
    "Dataset is too large(1522116, 77) for initial phase training. It is unnecessary waste of time and resorces. \n",
    "\n",
    "All features have either 0 or 1. \n",
    "\n"
   ]
  },
  {
   "cell_type": "code",
   "execution_count": 15,
   "id": "minimal-caution",
   "metadata": {},
   "outputs": [],
   "source": [
    "# normalize the data\n",
    "# x.loc[:, x.columns != 'key'].head()\n",
    "# x['features5'].unique() = array([0,1])\n",
    "# x.shape = (1522116, 77)\n",
    "# checking balancing data\n",
    "\n",
    "x=pd.read_csv('./model_data/features.csv')\n",
    "y=pd.read_csv('./model_data/labels.csv')"
   ]
  },
  {
   "cell_type": "code",
   "execution_count": null,
   "id": "eleven-charleston",
   "metadata": {},
   "outputs": [],
   "source": []
  },
  {
   "cell_type": "code",
   "execution_count": 9,
   "id": "disturbed-filling",
   "metadata": {},
   "outputs": [
    {
     "data": {
      "text/plain": [
       "1    589222\n",
       "0     62219\n",
       "Name: label, dtype: int64"
      ]
     },
     "execution_count": 9,
     "metadata": {},
     "output_type": "execute_result"
    }
   ],
   "source": [
    "y['label'].value_counts()"
   ]
  },
  {
   "cell_type": "code",
   "execution_count": 10,
   "id": "greenhouse-profession",
   "metadata": {},
   "outputs": [
    {
     "data": {
      "text/plain": [
       "((1522116, 77), (651441, 2))"
      ]
     },
     "execution_count": 10,
     "metadata": {},
     "output_type": "execute_result"
    }
   ],
   "source": [
    "x.shape , y.shape"
   ]
  },
  {
   "cell_type": "markdown",
   "id": "infectious-acting",
   "metadata": {},
   "source": [
    "dataset require cleaning and then save it"
   ]
  },
  {
   "cell_type": "code",
   "execution_count": 17,
   "id": "adverse-chrome",
   "metadata": {},
   "outputs": [
    {
     "data": {
      "text/plain": [
       "str"
      ]
     },
     "execution_count": 17,
     "metadata": {},
     "output_type": "execute_result"
    }
   ],
   "source": [
    "type(x['key'][0])"
   ]
  },
  {
   "cell_type": "markdown",
   "id": "olympic-pickup",
   "metadata": {},
   "source": [
    "checking duplicated"
   ]
  },
  {
   "cell_type": "code",
   "execution_count": 13,
   "id": "searching-throw",
   "metadata": {},
   "outputs": [
    {
     "data": {
      "text/plain": [
       "522663"
      ]
     },
     "execution_count": 13,
     "metadata": {},
     "output_type": "execute_result"
    }
   ],
   "source": [
    "x.duplicated().sum()"
   ]
  },
  {
   "cell_type": "markdown",
   "id": "operational-fashion",
   "metadata": {},
   "source": [
    "there are many duplicates. keeping only first data point. "
   ]
  },
  {
   "cell_type": "code",
   "execution_count": 16,
   "id": "respiratory-bernard",
   "metadata": {},
   "outputs": [
    {
     "data": {
      "text/plain": [
       "((999453, 77), (1522116, 77))"
      ]
     },
     "execution_count": 16,
     "metadata": {},
     "output_type": "execute_result"
    }
   ],
   "source": [
    "x_=x[x.duplicated(keep='last')==False]\n",
    "x_.shape,x.shape"
   ]
  },
  {
   "cell_type": "code",
   "execution_count": 61,
   "id": "sophisticated-renewal",
   "metadata": {},
   "outputs": [
    {
     "data": {
      "text/plain": [
       "((651441, 2), (651441, 2))"
      ]
     },
     "execution_count": 61,
     "metadata": {},
     "output_type": "execute_result"
    }
   ],
   "source": [
    "y_=y[y.duplicated(keep='last')==False]\n",
    "y_.shape,y.shape"
   ]
  },
  {
   "cell_type": "markdown",
   "id": "surprising-worship",
   "metadata": {},
   "source": [
    "since key is alpha numeric. either we short them and then filter data. or using dictionary, merge x and y. after that save in single file."
   ]
  },
  {
   "cell_type": "code",
   "execution_count": 35,
   "id": "smooth-october",
   "metadata": {},
   "outputs": [],
   "source": [
    "from collections import defaultdict\n",
    "from tqdm import tqdm"
   ]
  },
  {
   "cell_type": "code",
   "execution_count": 78,
   "id": "collect-tennessee",
   "metadata": {},
   "outputs": [
    {
     "data": {
      "text/plain": [
       "'01038f57e875d9b08ab3a7b04b707978f55e727f3e258e826318493755fd6c'"
      ]
     },
     "execution_count": 78,
     "metadata": {},
     "output_type": "execute_result"
    }
   ],
   "source": [
    "x_key.iloc[0]"
   ]
  },
  {
   "cell_type": "code",
   "execution_count": 81,
   "id": "coordinate-aruba",
   "metadata": {},
   "outputs": [
    {
     "name": "stderr",
     "output_type": "stream",
     "text": [
      "100%|██████████| 999453/999453 [02:01<00:00, 8230.83it/s]\n"
     ]
    }
   ],
   "source": [
    "x_nokey=x_.loc[:,x_.columns != 'key']\n",
    "x_key=x_['key']\n",
    "x_dict = defaultdict()\n",
    "for i in tqdm(range(len(x_))):\n",
    "    k=x_key.iloc[i]\n",
    "    v=x_nokey.iloc[i]\n",
    "    x_dict[k]=list(v)"
   ]
  },
  {
   "cell_type": "code",
   "execution_count": 82,
   "id": "eastern-handbook",
   "metadata": {},
   "outputs": [
    {
     "data": {
      "text/plain": [
       "(999453, (999453, 77))"
      ]
     },
     "execution_count": 82,
     "metadata": {},
     "output_type": "execute_result"
    }
   ],
   "source": [
    "len(x_dict.keys()),x_.shape"
   ]
  },
  {
   "cell_type": "code",
   "execution_count": 89,
   "id": "received-wildlife",
   "metadata": {},
   "outputs": [
    {
     "name": "stderr",
     "output_type": "stream",
     "text": [
      "100%|██████████| 651441/651441 [00:18<00:00, 35171.62it/s]\n"
     ]
    }
   ],
   "source": [
    "data_dict = defaultdict()\n",
    "for i in tqdm(range(len(y))):\n",
    "    if y['key'][i] in x_dict:\n",
    "        x_dict[y['key'][i]].append(y['label'][i])\n",
    "        data_dict[y['key'][i]] = x_dict[y['key'][i]]"
   ]
  },
  {
   "cell_type": "code",
   "execution_count": 90,
   "id": "graphic-appendix",
   "metadata": {},
   "outputs": [],
   "source": [
    "data=pd.DataFrame.from_dict(data_dict, orient = 'index')"
   ]
  },
  {
   "cell_type": "code",
   "execution_count": 92,
   "id": "fresh-thriller",
   "metadata": {},
   "outputs": [
    {
     "data": {
      "text/plain": [
       "(650954, 78)"
      ]
     },
     "execution_count": 92,
     "metadata": {},
     "output_type": "execute_result"
    }
   ],
   "source": [
    "data.shape"
   ]
  },
  {
   "cell_type": "code",
   "execution_count": 105,
   "id": "compliant-insulin",
   "metadata": {},
   "outputs": [
    {
     "data": {
      "text/plain": [
       "1    589001\n",
       "0     61953\n",
       "Name: 77, dtype: int64"
      ]
     },
     "execution_count": 105,
     "metadata": {},
     "output_type": "execute_result"
    }
   ],
   "source": [
    "data[77].value_counts()"
   ]
  },
  {
   "cell_type": "markdown",
   "id": "plain-surprise",
   "metadata": {},
   "source": [
    "### Now try to make data more balanced by duplicating the data. At least both label should be near equal. Lets make 0 label 7 times."
   ]
  },
  {
   "cell_type": "code",
   "execution_count": 106,
   "id": "tough-seeker",
   "metadata": {},
   "outputs": [
    {
     "data": {
      "text/plain": [
       "(61953, 78)"
      ]
     },
     "execution_count": 106,
     "metadata": {},
     "output_type": "execute_result"
    }
   ],
   "source": [
    "d_zeros = data[data[77]==0]\n",
    "d_zeros.shape"
   ]
  },
  {
   "cell_type": "code",
   "execution_count": 110,
   "id": "irish-virus",
   "metadata": {},
   "outputs": [],
   "source": [
    "data_balanced = pd.concat([d_zeros,data,d_zeros,d_zeros,d_zeros,d_zeros,d_zeros,d_zeros,])"
   ]
  },
  {
   "cell_type": "code",
   "execution_count": 114,
   "id": "dangerous-company",
   "metadata": {},
   "outputs": [
    {
     "data": {
      "text/plain": [
       "1    589001\n",
       "0    495624\n",
       "Name: 77, dtype: int64"
      ]
     },
     "execution_count": 114,
     "metadata": {},
     "output_type": "execute_result"
    }
   ],
   "source": [
    "data_balanced[77].value_counts()"
   ]
  },
  {
   "cell_type": "markdown",
   "id": "biblical-maryland",
   "metadata": {},
   "source": [
    "### to avoid biasnes due to grouping shuffle the rows."
   ]
  },
  {
   "cell_type": "code",
   "execution_count": 113,
   "id": "outstanding-skirt",
   "metadata": {},
   "outputs": [],
   "source": [
    "data_balanced = data_balanced.sample(frac=1)"
   ]
  },
  {
   "cell_type": "markdown",
   "id": "signed-spider",
   "metadata": {},
   "source": [
    "## save clean and balanced data"
   ]
  },
  {
   "cell_type": "code",
   "execution_count": 115,
   "id": "alien-silicon",
   "metadata": {},
   "outputs": [],
   "source": [
    "x_clean = data_balanced[0:77]\n",
    "y_clean = data_balanced[77]"
   ]
  },
  {
   "cell_type": "code",
   "execution_count": 116,
   "id": "stunning-cliff",
   "metadata": {},
   "outputs": [],
   "source": [
    "x_clean.to_csv(r'./model_data/features_clean.csv', index = False, header = True)\n",
    "y_clean.to_csv(r'./model_data/labels_clean.csv', index = False, header = True)"
   ]
  },
  {
   "cell_type": "code",
   "execution_count": 117,
   "id": "southern-condition",
   "metadata": {},
   "outputs": [
    {
     "data": {
      "text/plain": [
       "1    589001\n",
       "0    495624\n",
       "Name: 77, dtype: int64"
      ]
     },
     "execution_count": 117,
     "metadata": {},
     "output_type": "execute_result"
    }
   ],
   "source": [
    "y_clean.value_counts()"
   ]
  },
  {
   "cell_type": "markdown",
   "id": "sealed-popularity",
   "metadata": {},
   "source": [
    "# perform logistic on clean data"
   ]
  },
  {
   "cell_type": "code",
   "execution_count": null,
   "id": "conventional-palestinian",
   "metadata": {},
   "outputs": [],
   "source": [
    "# read data TODO\n",
    "def read_data(data_size=1000, split_ratio=0.15):\n",
    "    \n",
    "    n=1522116\n",
    "    skip = sorted(random.sample(range(n),n-data_size))\n",
    "    df = pandas.read_csv(filename, skiprows=skip)\n",
    "    \n",
    "    x=pd.read_csv('./model_data/features.csv',skiprows=skip)\n",
    "    y=pd.read_csv('./model_data/labels.csv',skiprows=skip)\n",
    "    \n",
    "    x_train, x_test, y_train, y_test = train_test_split(x.loc[:, x.columns != 'key'], y.loc[:, x.columns != 'key'], test_size=split_ratio, random_state=1)\n",
    "    \n",
    "    return x_train, x_test, y_train, y_test"
   ]
  },
  {
   "cell_type": "code",
   "execution_count": 5,
   "id": "arbitrary-mother",
   "metadata": {},
   "outputs": [],
   "source": [
    "# mean max min std var"
   ]
  },
  {
   "cell_type": "code",
   "execution_count": 6,
   "id": "weighted-messenger",
   "metadata": {},
   "outputs": [],
   "source": [
    "# histogram"
   ]
  },
  {
   "cell_type": "code",
   "execution_count": 7,
   "id": "macro-highway",
   "metadata": {},
   "outputs": [],
   "source": [
    "# "
   ]
  }
 ],
 "metadata": {
  "kernelspec": {
   "display_name": "Python 3",
   "language": "python",
   "name": "python3"
  },
  "language_info": {
   "codemirror_mode": {
    "name": "ipython",
    "version": 3
   },
   "file_extension": ".py",
   "mimetype": "text/x-python",
   "name": "python",
   "nbconvert_exporter": "python",
   "pygments_lexer": "ipython3",
   "version": "3.8.10"
  }
 },
 "nbformat": 4,
 "nbformat_minor": 5
}
