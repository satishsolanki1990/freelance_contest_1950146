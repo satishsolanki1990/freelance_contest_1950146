{
 "cells": [
  {
   "cell_type": "markdown",
   "id": "legendary-animation",
   "metadata": {},
   "source": [
    " need 3 models generated using existing data (features and labels):\n",
    "- Logistic Regression\n",
    "- Random Forest\n",
    "- XGB or Neural network\n",
    "\n",
    "Requirements:\n",
    "1) Perform data analysis (drop missing features, drop incorrect labels, drop highly correlated features, etc)\n",
    "\n",
    "2) Generate training Python scripts using sklearn for each model that accepts input data, sanitizes data and outputs model + ROC curve + features importance.\n",
    "\n",
    "3) Make script generic enough to work with any feature names and count (defined in external text file).\n",
    "\n",
    "4) Generate Prediction Python script (sklearn) that accepts never seen data (no labels, just features) and uses models above to generate prediction score."
   ]
  },
  {
   "cell_type": "code",
   "execution_count": 1,
   "id": "descending-family",
   "metadata": {},
   "outputs": [],
   "source": [
    "import pandas as pd\n",
    "import numpy as np\n",
    "import matplotlib.pyplot as plt\n",
    "import seaborn as sns\n",
    "import plotly\n",
    "import warnings\n",
    "\n",
    "warnings.filterwarnings('ignore')"
   ]
  },
  {
   "cell_type": "code",
   "execution_count": 2,
   "id": "accepted-disco",
   "metadata": {},
   "outputs": [],
   "source": [
    "features = pd.read_csv('features.csv')\n",
    "labels = pd.read_csv('labels.csv')"
   ]
  },
  {
   "cell_type": "code",
   "execution_count": 3,
   "id": "affiliated-diamond",
   "metadata": {
    "collapsed": true
   },
   "outputs": [
    {
     "name": "stdout",
     "output_type": "stream",
     "text": [
      "Index(['key', 'feature1', 'feature2', 'feature3', 'feature4', 'feature5',\n",
      "       'feature6', 'feature7', 'feature8', 'feature9', 'feature10',\n",
      "       'feature11', 'feature12', 'feature13', 'feature14', 'feature15',\n",
      "       'feature16', 'feature17', 'feature18', 'feature19', 'feature20',\n",
      "       'feature21', 'feature22', 'feature23', 'feature24', 'feature25',\n",
      "       'feature26', 'feature27', 'feature28', 'feature29', 'feature30',\n",
      "       'feature31', 'feature32', 'feature33', 'feature34', 'feature35',\n",
      "       'feature36', 'feature37', 'feature38', 'feature39', 'feature40',\n",
      "       'feature41', 'feature42', 'feature43', 'feature44', 'feature45',\n",
      "       'feature46', 'feature47', 'feature48', 'feature49', 'feature50',\n",
      "       'feature51', 'feature52', 'feature53', 'feature54', 'feature55',\n",
      "       'feature56', 'feature57', 'feature58', 'feature59', 'feature60',\n",
      "       'feature61', 'feature62', 'feature63', 'feature64', 'feature65',\n",
      "       'feature66', 'feature67', 'feature68', 'feature69', 'feature70',\n",
      "       'feature71', 'feature72', 'feature73', 'feature74', 'feature75',\n",
      "       'feature76'],\n",
      "      dtype='object')\n",
      "(1522116, 77)\n"
     ]
    },
    {
     "data": {
      "text/html": [
       "<div>\n",
       "<style scoped>\n",
       "    .dataframe tbody tr th:only-of-type {\n",
       "        vertical-align: middle;\n",
       "    }\n",
       "\n",
       "    .dataframe tbody tr th {\n",
       "        vertical-align: top;\n",
       "    }\n",
       "\n",
       "    .dataframe thead th {\n",
       "        text-align: right;\n",
       "    }\n",
       "</style>\n",
       "<table border=\"1\" class=\"dataframe\">\n",
       "  <thead>\n",
       "    <tr style=\"text-align: right;\">\n",
       "      <th></th>\n",
       "      <th>key</th>\n",
       "      <th>feature1</th>\n",
       "      <th>feature2</th>\n",
       "      <th>feature3</th>\n",
       "      <th>feature4</th>\n",
       "      <th>feature5</th>\n",
       "      <th>feature6</th>\n",
       "      <th>feature7</th>\n",
       "      <th>feature8</th>\n",
       "      <th>feature9</th>\n",
       "      <th>...</th>\n",
       "      <th>feature67</th>\n",
       "      <th>feature68</th>\n",
       "      <th>feature69</th>\n",
       "      <th>feature70</th>\n",
       "      <th>feature71</th>\n",
       "      <th>feature72</th>\n",
       "      <th>feature73</th>\n",
       "      <th>feature74</th>\n",
       "      <th>feature75</th>\n",
       "      <th>feature76</th>\n",
       "    </tr>\n",
       "  </thead>\n",
       "  <tbody>\n",
       "    <tr>\n",
       "      <th>0</th>\n",
       "      <td>00ace8f9e8017baf0ab312ccbaf55219794df21c0026b3...</td>\n",
       "      <td>1</td>\n",
       "      <td>1</td>\n",
       "      <td>0</td>\n",
       "      <td>1</td>\n",
       "      <td>0</td>\n",
       "      <td>1</td>\n",
       "      <td>1</td>\n",
       "      <td>1</td>\n",
       "      <td>1</td>\n",
       "      <td>...</td>\n",
       "      <td>1</td>\n",
       "      <td>1</td>\n",
       "      <td>1</td>\n",
       "      <td>1</td>\n",
       "      <td>0</td>\n",
       "      <td>1</td>\n",
       "      <td>1</td>\n",
       "      <td>1</td>\n",
       "      <td>1</td>\n",
       "      <td>0</td>\n",
       "    </tr>\n",
       "    <tr>\n",
       "      <th>1</th>\n",
       "      <td>009581729c31afe25bf13920bf11d318673f29d9f79572...</td>\n",
       "      <td>1</td>\n",
       "      <td>1</td>\n",
       "      <td>1</td>\n",
       "      <td>1</td>\n",
       "      <td>1</td>\n",
       "      <td>1</td>\n",
       "      <td>0</td>\n",
       "      <td>1</td>\n",
       "      <td>1</td>\n",
       "      <td>...</td>\n",
       "      <td>1</td>\n",
       "      <td>1</td>\n",
       "      <td>1</td>\n",
       "      <td>1</td>\n",
       "      <td>1</td>\n",
       "      <td>1</td>\n",
       "      <td>1</td>\n",
       "      <td>1</td>\n",
       "      <td>0</td>\n",
       "      <td>0</td>\n",
       "    </tr>\n",
       "    <tr>\n",
       "      <th>2</th>\n",
       "      <td>0049c493d09714af43ac48086908d05a7a295278a56b85...</td>\n",
       "      <td>1</td>\n",
       "      <td>1</td>\n",
       "      <td>0</td>\n",
       "      <td>1</td>\n",
       "      <td>0</td>\n",
       "      <td>1</td>\n",
       "      <td>1</td>\n",
       "      <td>1</td>\n",
       "      <td>1</td>\n",
       "      <td>...</td>\n",
       "      <td>0</td>\n",
       "      <td>0</td>\n",
       "      <td>1</td>\n",
       "      <td>1</td>\n",
       "      <td>0</td>\n",
       "      <td>0</td>\n",
       "      <td>1</td>\n",
       "      <td>1</td>\n",
       "      <td>1</td>\n",
       "      <td>0</td>\n",
       "    </tr>\n",
       "    <tr>\n",
       "      <th>3</th>\n",
       "      <td>007fd1565016ae6c2d2a792550ed935529fead976069b6...</td>\n",
       "      <td>0</td>\n",
       "      <td>0</td>\n",
       "      <td>0</td>\n",
       "      <td>0</td>\n",
       "      <td>0</td>\n",
       "      <td>0</td>\n",
       "      <td>0</td>\n",
       "      <td>0</td>\n",
       "      <td>0</td>\n",
       "      <td>...</td>\n",
       "      <td>0</td>\n",
       "      <td>0</td>\n",
       "      <td>0</td>\n",
       "      <td>0</td>\n",
       "      <td>0</td>\n",
       "      <td>0</td>\n",
       "      <td>0</td>\n",
       "      <td>0</td>\n",
       "      <td>0</td>\n",
       "      <td>0</td>\n",
       "    </tr>\n",
       "    <tr>\n",
       "      <th>4</th>\n",
       "      <td>012be300997eb753869a8492e95ef619c2900db4259755...</td>\n",
       "      <td>0</td>\n",
       "      <td>1</td>\n",
       "      <td>0</td>\n",
       "      <td>0</td>\n",
       "      <td>0</td>\n",
       "      <td>1</td>\n",
       "      <td>0</td>\n",
       "      <td>0</td>\n",
       "      <td>1</td>\n",
       "      <td>...</td>\n",
       "      <td>1</td>\n",
       "      <td>0</td>\n",
       "      <td>0</td>\n",
       "      <td>1</td>\n",
       "      <td>1</td>\n",
       "      <td>0</td>\n",
       "      <td>1</td>\n",
       "      <td>0</td>\n",
       "      <td>0</td>\n",
       "      <td>0</td>\n",
       "    </tr>\n",
       "  </tbody>\n",
       "</table>\n",
       "<p>5 rows × 77 columns</p>\n",
       "</div>"
      ],
      "text/plain": [
       "                                                 key  feature1  feature2  \\\n",
       "0  00ace8f9e8017baf0ab312ccbaf55219794df21c0026b3...         1         1   \n",
       "1  009581729c31afe25bf13920bf11d318673f29d9f79572...         1         1   \n",
       "2  0049c493d09714af43ac48086908d05a7a295278a56b85...         1         1   \n",
       "3  007fd1565016ae6c2d2a792550ed935529fead976069b6...         0         0   \n",
       "4  012be300997eb753869a8492e95ef619c2900db4259755...         0         1   \n",
       "\n",
       "   feature3  feature4  feature5  feature6  feature7  feature8  feature9  ...  \\\n",
       "0         0         1         0         1         1         1         1  ...   \n",
       "1         1         1         1         1         0         1         1  ...   \n",
       "2         0         1         0         1         1         1         1  ...   \n",
       "3         0         0         0         0         0         0         0  ...   \n",
       "4         0         0         0         1         0         0         1  ...   \n",
       "\n",
       "   feature67  feature68  feature69  feature70  feature71  feature72  \\\n",
       "0          1          1          1          1          0          1   \n",
       "1          1          1          1          1          1          1   \n",
       "2          0          0          1          1          0          0   \n",
       "3          0          0          0          0          0          0   \n",
       "4          1          0          0          1          1          0   \n",
       "\n",
       "   feature73  feature74  feature75  feature76  \n",
       "0          1          1          1          0  \n",
       "1          1          1          0          0  \n",
       "2          1          1          1          0  \n",
       "3          0          0          0          0  \n",
       "4          1          0          0          0  \n",
       "\n",
       "[5 rows x 77 columns]"
      ]
     },
     "execution_count": 3,
     "metadata": {},
     "output_type": "execute_result"
    }
   ],
   "source": [
    "print(features.columns)\n",
    "print(features.shape)\n",
    "features.head()"
   ]
  },
  {
   "cell_type": "code",
   "execution_count": 4,
   "id": "beautiful-prototype",
   "metadata": {
    "collapsed": true
   },
   "outputs": [
    {
     "name": "stdout",
     "output_type": "stream",
     "text": [
      "(651441, 2)\n"
     ]
    },
    {
     "data": {
      "text/html": [
       "<div>\n",
       "<style scoped>\n",
       "    .dataframe tbody tr th:only-of-type {\n",
       "        vertical-align: middle;\n",
       "    }\n",
       "\n",
       "    .dataframe tbody tr th {\n",
       "        vertical-align: top;\n",
       "    }\n",
       "\n",
       "    .dataframe thead th {\n",
       "        text-align: right;\n",
       "    }\n",
       "</style>\n",
       "<table border=\"1\" class=\"dataframe\">\n",
       "  <thead>\n",
       "    <tr style=\"text-align: right;\">\n",
       "      <th></th>\n",
       "      <th>key</th>\n",
       "      <th>label</th>\n",
       "    </tr>\n",
       "  </thead>\n",
       "  <tbody>\n",
       "    <tr>\n",
       "      <th>0</th>\n",
       "      <td>bba27b1fffbecb4f37400ec3368995e39dfabbce614225...</td>\n",
       "      <td>1</td>\n",
       "    </tr>\n",
       "    <tr>\n",
       "      <th>1</th>\n",
       "      <td>41d66270e5a2bf2366d0804462f1f8609c5ecd83900f00...</td>\n",
       "      <td>1</td>\n",
       "    </tr>\n",
       "    <tr>\n",
       "      <th>2</th>\n",
       "      <td>995ac7bd74a6050bd4d0bcd7a891fd57ef7073ddd00acc...</td>\n",
       "      <td>1</td>\n",
       "    </tr>\n",
       "    <tr>\n",
       "      <th>3</th>\n",
       "      <td>afb52fe7c13c652190c118f33f42402733766ae714fd48...</td>\n",
       "      <td>1</td>\n",
       "    </tr>\n",
       "    <tr>\n",
       "      <th>4</th>\n",
       "      <td>0aab946153a05d31cd98ffae63bd68a397745a66a03ed6...</td>\n",
       "      <td>1</td>\n",
       "    </tr>\n",
       "  </tbody>\n",
       "</table>\n",
       "</div>"
      ],
      "text/plain": [
       "                                                 key  label\n",
       "0  bba27b1fffbecb4f37400ec3368995e39dfabbce614225...      1\n",
       "1  41d66270e5a2bf2366d0804462f1f8609c5ecd83900f00...      1\n",
       "2  995ac7bd74a6050bd4d0bcd7a891fd57ef7073ddd00acc...      1\n",
       "3  afb52fe7c13c652190c118f33f42402733766ae714fd48...      1\n",
       "4  0aab946153a05d31cd98ffae63bd68a397745a66a03ed6...      1"
      ]
     },
     "execution_count": 4,
     "metadata": {},
     "output_type": "execute_result"
    }
   ],
   "source": [
    "print(labels.shape)\n",
    "labels.head()"
   ]
  },
  {
   "cell_type": "code",
   "execution_count": 5,
   "id": "going-retail",
   "metadata": {
    "collapsed": true
   },
   "outputs": [
    {
     "data": {
      "text/plain": [
       "key          0\n",
       "feature1     0\n",
       "feature2     0\n",
       "feature3     0\n",
       "feature4     0\n",
       "            ..\n",
       "feature72    0\n",
       "feature73    0\n",
       "feature74    0\n",
       "feature75    0\n",
       "feature76    0\n",
       "Length: 77, dtype: int64"
      ]
     },
     "execution_count": 5,
     "metadata": {},
     "output_type": "execute_result"
    }
   ],
   "source": [
    "features.isnull().sum()"
   ]
  },
  {
   "cell_type": "code",
   "execution_count": 6,
   "id": "disciplinary-impact",
   "metadata": {},
   "outputs": [
    {
     "data": {
      "text/plain": [
       "key      0\n",
       "label    0\n",
       "dtype: int64"
      ]
     },
     "execution_count": 6,
     "metadata": {},
     "output_type": "execute_result"
    }
   ],
   "source": [
    "labels.isnull().sum()"
   ]
  },
  {
   "cell_type": "code",
   "execution_count": 7,
   "id": "inappropriate-tribe",
   "metadata": {},
   "outputs": [],
   "source": [
    "# find the unique values for all the features and the labels\n",
    "def unique(dataset):\n",
    "    print(dataset.columns)\n",
    "    x = str(input('entre the clumns name for with you want the unique value : '))\n",
    "    print(f'\\n {dataset[x].unique().shape}')\n",
    "    return dataset[x].unique()"
   ]
  },
  {
   "cell_type": "code",
   "execution_count": 65,
   "id": "understood-skating",
   "metadata": {
    "collapsed": true
   },
   "outputs": [
    {
     "name": "stdout",
     "output_type": "stream",
     "text": [
      "Index(['key', 'feature1', 'feature2', 'feature3', 'feature4', 'feature5',\n",
      "       'feature6', 'feature7', 'feature8', 'feature9', 'feature10',\n",
      "       'feature11', 'feature12', 'feature13', 'feature14', 'feature15',\n",
      "       'feature16', 'feature17', 'feature18', 'feature19', 'feature20',\n",
      "       'feature21', 'feature22', 'feature23', 'feature24', 'feature25',\n",
      "       'feature26', 'feature27', 'feature28', 'feature29', 'feature30',\n",
      "       'feature31', 'feature32', 'feature33', 'feature34', 'feature35',\n",
      "       'feature36', 'feature37', 'feature38', 'feature39', 'feature40',\n",
      "       'feature41', 'feature42', 'feature43', 'feature44', 'feature45',\n",
      "       'feature46', 'feature47', 'feature48', 'feature49', 'feature50',\n",
      "       'feature51', 'feature52', 'feature53', 'feature54', 'feature55',\n",
      "       'feature56', 'feature57', 'feature58', 'feature59', 'feature60',\n",
      "       'feature61', 'feature62', 'feature63', 'feature64', 'feature65',\n",
      "       'feature66', 'feature67', 'feature68', 'feature69', 'feature70',\n",
      "       'feature71', 'feature72', 'feature73', 'feature74', 'feature75',\n",
      "       'feature76'],\n",
      "      dtype='object')\n",
      "entre the clumns name for with you want the unique value : feature2\n",
      "\n",
      " (2,)\n"
     ]
    },
    {
     "data": {
      "text/plain": [
       "array([1, 0], dtype=int64)"
      ]
     },
     "execution_count": 65,
     "metadata": {},
     "output_type": "execute_result"
    }
   ],
   "source": [
    "unique(features)"
   ]
  },
  {
   "cell_type": "code",
   "execution_count": 78,
   "id": "marine-thirty",
   "metadata": {},
   "outputs": [],
   "source": [
    "labels.sort_values(by = ['key'], ignore_index=True, inplace=True)"
   ]
  },
  {
   "cell_type": "code",
   "execution_count": 75,
   "id": "valuable-airplane",
   "metadata": {},
   "outputs": [],
   "source": [
    "features.sort_values(by = ['key'],ignore_index=True,inplace=True)"
   ]
  },
  {
   "cell_type": "code",
   "execution_count": null,
   "id": "tender-season",
   "metadata": {},
   "outputs": [],
   "source": []
  },
  {
   "cell_type": "code",
   "execution_count": null,
   "id": "offensive-tribe",
   "metadata": {},
   "outputs": [],
   "source": []
  },
  {
   "cell_type": "code",
   "execution_count": null,
   "id": "annoying-rachel",
   "metadata": {},
   "outputs": [],
   "source": []
  },
  {
   "cell_type": "markdown",
   "id": "advance-component",
   "metadata": {},
   "source": [
    "** **\n",
    "\n",
    "**Perform data analysis (drop missing features, drop incorrect labels, drop highly correlated features, etc)**\n",
    "\n",
    "** **"
   ]
  },
  {
   "cell_type": "code",
   "execution_count": 215,
   "id": "absent-copying",
   "metadata": {},
   "outputs": [],
   "source": [
    "# creating a variable of 'key' in features and labels\n",
    "\n",
    "f_key = features.drop_duplicates().key\n",
    "l_key = labels.key"
   ]
  },
  {
   "cell_type": "code",
   "execution_count": 216,
   "id": "three-assessment",
   "metadata": {},
   "outputs": [],
   "source": [
    "# sorting variables\n",
    "\n",
    "f_key = sorted(f_key)\n",
    "l_key = sorted(l_key)"
   ]
  },
  {
   "cell_type": "markdown",
   "id": "sophisticated-spiritual",
   "metadata": {},
   "source": [
    "    checking the labels variable have same value or not"
   ]
  },
  {
   "cell_type": "code",
   "execution_count": 217,
   "id": "editorial-kinase",
   "metadata": {},
   "outputs": [
    {
     "data": {
      "text/plain": [
       "'000000d77fdee024f61e5941861e02838d2214800ec8e910cee4e5c5ff41e7'"
      ]
     },
     "execution_count": 217,
     "metadata": {},
     "output_type": "execute_result"
    }
   ],
   "source": [
    "f_key[0]"
   ]
  },
  {
   "cell_type": "code",
   "execution_count": 218,
   "id": "preceding-dover",
   "metadata": {},
   "outputs": [
    {
     "data": {
      "text/plain": [
       "'000000d77fdee024f61e5941861e02838d2214800ec8e910cee4e5c5ff41e7'"
      ]
     },
     "execution_count": 218,
     "metadata": {},
     "output_type": "execute_result"
    }
   ],
   "source": [
    "l_key[0]\n"
   ]
  },
  {
   "cell_type": "code",
   "execution_count": 187,
   "id": "likely-resistance",
   "metadata": {},
   "outputs": [],
   "source": [
    "features.dropna(inplace=True)"
   ]
  },
  {
   "cell_type": "code",
   "execution_count": 128,
   "id": "divine-fitness",
   "metadata": {},
   "outputs": [],
   "source": [
    "features.drop_duplicates(inplace=True,ignore_index=True)"
   ]
  },
  {
   "cell_type": "code",
   "execution_count": 178,
   "id": "transparent-scholarship",
   "metadata": {},
   "outputs": [
    {
     "data": {
      "text/plain": [
       "0          True\n",
       "1          True\n",
       "2         False\n",
       "3          True\n",
       "4         False\n",
       "          ...  \n",
       "999448     True\n",
       "999449     True\n",
       "999450     True\n",
       "999451     True\n",
       "999452     True\n",
       "Name: key, Length: 999453, dtype: bool"
      ]
     },
     "execution_count": 178,
     "metadata": {},
     "output_type": "execute_result"
    }
   ],
   "source": [
    "features.key.isin(l_key)"
   ]
  },
  {
   "cell_type": "code",
   "execution_count": 208,
   "id": "stone-cooking",
   "metadata": {},
   "outputs": [],
   "source": [
    "features_labels = features.drop(features[~(features.key.isin(l_key))],axis='columns')"
   ]
  },
  {
   "cell_type": "code",
   "execution_count": 209,
   "id": "composed-attitude",
   "metadata": {},
   "outputs": [],
   "source": [
    "features_labels = pd.concat([features,labels.label],axis='columns')"
   ]
  },
  {
   "cell_type": "code",
   "execution_count": 223,
   "id": "involved-producer",
   "metadata": {},
   "outputs": [
    {
     "data": {
      "text/plain": [
       "key          0\n",
       "feature1     0\n",
       "feature2     0\n",
       "feature3     0\n",
       "feature4     0\n",
       "            ..\n",
       "feature73    0\n",
       "feature74    0\n",
       "feature75    0\n",
       "feature76    0\n",
       "label        0\n",
       "Length: 78, dtype: int64"
      ]
     },
     "execution_count": 223,
     "metadata": {},
     "output_type": "execute_result"
    }
   ],
   "source": [
    "features_labels.isnull().sum()"
   ]
  },
  {
   "cell_type": "code",
   "execution_count": 221,
   "id": "democratic-summer",
   "metadata": {},
   "outputs": [],
   "source": [
    "features_labels.dropna(inplace=True)"
   ]
  },
  {
   "cell_type": "code",
   "execution_count": 222,
   "id": "acknowledged-absorption",
   "metadata": {},
   "outputs": [
    {
     "name": "stdout",
     "output_type": "stream",
     "text": [
      "(651441, 78)\n"
     ]
    },
    {
     "data": {
      "text/html": [
       "<div>\n",
       "<style scoped>\n",
       "    .dataframe tbody tr th:only-of-type {\n",
       "        vertical-align: middle;\n",
       "    }\n",
       "\n",
       "    .dataframe tbody tr th {\n",
       "        vertical-align: top;\n",
       "    }\n",
       "\n",
       "    .dataframe thead th {\n",
       "        text-align: right;\n",
       "    }\n",
       "</style>\n",
       "<table border=\"1\" class=\"dataframe\">\n",
       "  <thead>\n",
       "    <tr style=\"text-align: right;\">\n",
       "      <th></th>\n",
       "      <th>key</th>\n",
       "      <th>feature1</th>\n",
       "      <th>feature2</th>\n",
       "      <th>feature3</th>\n",
       "      <th>feature4</th>\n",
       "      <th>feature5</th>\n",
       "      <th>feature6</th>\n",
       "      <th>feature7</th>\n",
       "      <th>feature8</th>\n",
       "      <th>feature9</th>\n",
       "      <th>...</th>\n",
       "      <th>feature68</th>\n",
       "      <th>feature69</th>\n",
       "      <th>feature70</th>\n",
       "      <th>feature71</th>\n",
       "      <th>feature72</th>\n",
       "      <th>feature73</th>\n",
       "      <th>feature74</th>\n",
       "      <th>feature75</th>\n",
       "      <th>feature76</th>\n",
       "      <th>label</th>\n",
       "    </tr>\n",
       "  </thead>\n",
       "  <tbody>\n",
       "    <tr>\n",
       "      <th>0</th>\n",
       "      <td>000000d77fdee024f61e5941861e02838d2214800ec8e9...</td>\n",
       "      <td>1</td>\n",
       "      <td>1</td>\n",
       "      <td>0</td>\n",
       "      <td>1</td>\n",
       "      <td>0</td>\n",
       "      <td>1</td>\n",
       "      <td>1</td>\n",
       "      <td>1</td>\n",
       "      <td>1</td>\n",
       "      <td>...</td>\n",
       "      <td>1</td>\n",
       "      <td>1</td>\n",
       "      <td>1</td>\n",
       "      <td>0</td>\n",
       "      <td>0</td>\n",
       "      <td>0</td>\n",
       "      <td>1</td>\n",
       "      <td>1</td>\n",
       "      <td>0</td>\n",
       "      <td>1.0</td>\n",
       "    </tr>\n",
       "    <tr>\n",
       "      <th>1</th>\n",
       "      <td>0000137f327e090be14f03c3eb25520bc011d21ad3fdd9...</td>\n",
       "      <td>1</td>\n",
       "      <td>1</td>\n",
       "      <td>0</td>\n",
       "      <td>1</td>\n",
       "      <td>0</td>\n",
       "      <td>0</td>\n",
       "      <td>1</td>\n",
       "      <td>1</td>\n",
       "      <td>1</td>\n",
       "      <td>...</td>\n",
       "      <td>0</td>\n",
       "      <td>1</td>\n",
       "      <td>1</td>\n",
       "      <td>0</td>\n",
       "      <td>0</td>\n",
       "      <td>1</td>\n",
       "      <td>1</td>\n",
       "      <td>1</td>\n",
       "      <td>0</td>\n",
       "      <td>1.0</td>\n",
       "    </tr>\n",
       "    <tr>\n",
       "      <th>2</th>\n",
       "      <td>00001c11084d7df1854a14a30340b774ab3e5b1fab31fe...</td>\n",
       "      <td>0</td>\n",
       "      <td>1</td>\n",
       "      <td>1</td>\n",
       "      <td>1</td>\n",
       "      <td>0</td>\n",
       "      <td>0</td>\n",
       "      <td>1</td>\n",
       "      <td>0</td>\n",
       "      <td>1</td>\n",
       "      <td>...</td>\n",
       "      <td>1</td>\n",
       "      <td>1</td>\n",
       "      <td>0</td>\n",
       "      <td>1</td>\n",
       "      <td>0</td>\n",
       "      <td>1</td>\n",
       "      <td>0</td>\n",
       "      <td>0</td>\n",
       "      <td>0</td>\n",
       "      <td>1.0</td>\n",
       "    </tr>\n",
       "    <tr>\n",
       "      <th>3</th>\n",
       "      <td>00001dbb91730b3ee0759202dec4905ad4152dcf303f3f...</td>\n",
       "      <td>0</td>\n",
       "      <td>1</td>\n",
       "      <td>0</td>\n",
       "      <td>1</td>\n",
       "      <td>0</td>\n",
       "      <td>1</td>\n",
       "      <td>1</td>\n",
       "      <td>1</td>\n",
       "      <td>1</td>\n",
       "      <td>...</td>\n",
       "      <td>0</td>\n",
       "      <td>1</td>\n",
       "      <td>1</td>\n",
       "      <td>0</td>\n",
       "      <td>0</td>\n",
       "      <td>0</td>\n",
       "      <td>0</td>\n",
       "      <td>1</td>\n",
       "      <td>0</td>\n",
       "      <td>1.0</td>\n",
       "    </tr>\n",
       "    <tr>\n",
       "      <th>4</th>\n",
       "      <td>00003084e2dac1a9b681bf1a744bc080b2a619e52471ee...</td>\n",
       "      <td>0</td>\n",
       "      <td>0</td>\n",
       "      <td>0</td>\n",
       "      <td>0</td>\n",
       "      <td>0</td>\n",
       "      <td>0</td>\n",
       "      <td>0</td>\n",
       "      <td>0</td>\n",
       "      <td>0</td>\n",
       "      <td>...</td>\n",
       "      <td>0</td>\n",
       "      <td>0</td>\n",
       "      <td>0</td>\n",
       "      <td>0</td>\n",
       "      <td>0</td>\n",
       "      <td>0</td>\n",
       "      <td>0</td>\n",
       "      <td>0</td>\n",
       "      <td>0</td>\n",
       "      <td>1.0</td>\n",
       "    </tr>\n",
       "  </tbody>\n",
       "</table>\n",
       "<p>5 rows × 78 columns</p>\n",
       "</div>"
      ],
      "text/plain": [
       "                                                 key  feature1  feature2  \\\n",
       "0  000000d77fdee024f61e5941861e02838d2214800ec8e9...         1         1   \n",
       "1  0000137f327e090be14f03c3eb25520bc011d21ad3fdd9...         1         1   \n",
       "2  00001c11084d7df1854a14a30340b774ab3e5b1fab31fe...         0         1   \n",
       "3  00001dbb91730b3ee0759202dec4905ad4152dcf303f3f...         0         1   \n",
       "4  00003084e2dac1a9b681bf1a744bc080b2a619e52471ee...         0         0   \n",
       "\n",
       "   feature3  feature4  feature5  feature6  feature7  feature8  feature9  ...  \\\n",
       "0         0         1         0         1         1         1         1  ...   \n",
       "1         0         1         0         0         1         1         1  ...   \n",
       "2         1         1         0         0         1         0         1  ...   \n",
       "3         0         1         0         1         1         1         1  ...   \n",
       "4         0         0         0         0         0         0         0  ...   \n",
       "\n",
       "   feature68  feature69  feature70  feature71  feature72  feature73  \\\n",
       "0          1          1          1          0          0          0   \n",
       "1          0          1          1          0          0          1   \n",
       "2          1          1          0          1          0          1   \n",
       "3          0          1          1          0          0          0   \n",
       "4          0          0          0          0          0          0   \n",
       "\n",
       "   feature74  feature75  feature76  label  \n",
       "0          1          1          0    1.0  \n",
       "1          1          1          0    1.0  \n",
       "2          0          0          0    1.0  \n",
       "3          0          1          0    1.0  \n",
       "4          0          0          0    1.0  \n",
       "\n",
       "[5 rows x 78 columns]"
      ]
     },
     "execution_count": 222,
     "metadata": {},
     "output_type": "execute_result"
    }
   ],
   "source": [
    "print(features_labels.shape)\n",
    "features_labels.head()"
   ]
  },
  {
   "cell_type": "code",
   "execution_count": 214,
   "id": "sound-school",
   "metadata": {},
   "outputs": [
    {
     "data": {
      "text/plain": [
       "<AxesSubplot:>"
      ]
     },
     "execution_count": 214,
     "metadata": {},
     "output_type": "execute_result"
    },
    {
     "data": {
      "image/png": "[encoded data removed]",
      "text/plain": [
       "<Figure size 1800x648 with 2 Axes>"
      ]
     },
     "metadata": {
      "needs_background": "light"
     },
     "output_type": "display_data"
    }
   ],
   "source": [
    "plt.figure(figsize = (25,9))\n",
    "sns.heatmap(features_labels.corr(method='pearson',min_periods=3)) #'pearson', 'kendall', 'spearman'"
   ]
  },
  {
   "cell_type": "code",
   "execution_count": 224,
   "id": "organic-chile",
   "metadata": {},
   "outputs": [],
   "source": [
    "features_labels_corr = features_labels.corr()"
   ]
  },
  {
   "cell_type": "code",
   "execution_count": 228,
   "id": "reduced-brain",
   "metadata": {},
   "outputs": [],
   "source": [
    "features_labels = pd.DataFrame(features_labels_corr)"
   ]
  },
  {
   "cell_type": "code",
   "execution_count": 402,
   "id": "similar-price",
   "metadata": {},
   "outputs": [],
   "source": [
    "features_labels_corr[features_labels_corr > 0.6]"
   ]
  },
  {
   "cell_type": "code",
   "execution_count": 401,
   "id": "stuffed-stopping",
   "metadata": {},
   "outputs": [
    {
     "data": {
      "text/plain": [
       "feature1      8\n",
       "feature2     28\n",
       "feature3      1\n",
       "feature4     24\n",
       "feature5      1\n",
       "             ..\n",
       "feature73     1\n",
       "feature74     1\n",
       "feature75     5\n",
       "feature76     1\n",
       "label         1\n",
       "Length: 77, dtype: int64"
      ]
     },
     "execution_count": 401,
     "metadata": {},
     "output_type": "execute_result"
    }
   ],
   "source": [
    "features_labels_corr[features_labels_corr < 0.6].isna().sum()"
   ]
  },
  {
   "cell_type": "code",
   "execution_count": 388,
   "id": "middle-moral",
   "metadata": {},
   "outputs": [],
   "source": [
    "nan_count = features_labels_corr[features_labels_corr < 0.5].isna().sum()"
   ]
  },
  {
   "cell_type": "code",
   "execution_count": 389,
   "id": "organizational-street",
   "metadata": {},
   "outputs": [],
   "source": [
    "nan_count = pd.DataFrame(nan_count)"
   ]
  },
  {
   "cell_type": "code",
   "execution_count": 390,
   "id": "worst-perspective",
   "metadata": {},
   "outputs": [],
   "source": [
    "nan_count.index = features_labels_corr.columns\n",
    "nan_count.columns = ['features_nan_sum_more_than_0.6']"
   ]
  },
  {
   "cell_type": "code",
   "execution_count": 391,
   "id": "retained-action",
   "metadata": {},
   "outputs": [
    {
     "data": {
      "text/plain": [
       "(77, 1)"
      ]
     },
     "execution_count": 391,
     "metadata": {},
     "output_type": "execute_result"
    }
   ],
   "source": [
    "nan_count.shape"
   ]
  },
  {
   "cell_type": "code",
   "execution_count": 395,
   "id": "beautiful-clark",
   "metadata": {},
   "outputs": [
    {
     "data": {
      "text/plain": [
       "([0,\n",
       "  1,\n",
       "  2,\n",
       "  3,\n",
       "  4,\n",
       "  5,\n",
       "  6,\n",
       "  7,\n",
       "  8,\n",
       "  9,\n",
       "  10,\n",
       "  11,\n",
       "  12,\n",
       "  13,\n",
       "  14,\n",
       "  15,\n",
       "  16,\n",
       "  17,\n",
       "  18,\n",
       "  19,\n",
       "  20,\n",
       "  21,\n",
       "  22,\n",
       "  23,\n",
       "  24,\n",
       "  25,\n",
       "  26,\n",
       "  27,\n",
       "  28,\n",
       "  29,\n",
       "  30,\n",
       "  31,\n",
       "  32,\n",
       "  33,\n",
       "  34,\n",
       "  35,\n",
       "  36,\n",
       "  37,\n",
       "  38,\n",
       "  39,\n",
       "  40,\n",
       "  41,\n",
       "  42,\n",
       "  43,\n",
       "  44,\n",
       "  45,\n",
       "  46,\n",
       "  47,\n",
       "  48,\n",
       "  49,\n",
       "  50,\n",
       "  51,\n",
       "  52,\n",
       "  53,\n",
       "  54,\n",
       "  55,\n",
       "  56,\n",
       "  57,\n",
       "  58,\n",
       "  59,\n",
       "  60,\n",
       "  61,\n",
       "  62,\n",
       "  63,\n",
       "  64,\n",
       "  65,\n",
       "  66,\n",
       "  67,\n",
       "  68,\n",
       "  69,\n",
       "  70,\n",
       "  71,\n",
       "  72,\n",
       "  73,\n",
       "  74,\n",
       "  75,\n",
       "  76],\n",
       " [Text(0, 0, ''),\n",
       "  Text(0, 0, ''),\n",
       "  Text(0, 0, ''),\n",
       "  Text(0, 0, ''),\n",
       "  Text(0, 0, ''),\n",
       "  Text(0, 0, ''),\n",
       "  Text(0, 0, ''),\n",
       "  Text(0, 0, ''),\n",
       "  Text(0, 0, ''),\n",
       "  Text(0, 0, ''),\n",
       "  Text(0, 0, ''),\n",
       "  Text(0, 0, ''),\n",
       "  Text(0, 0, ''),\n",
       "  Text(0, 0, ''),\n",
       "  Text(0, 0, ''),\n",
       "  Text(0, 0, ''),\n",
       "  Text(0, 0, ''),\n",
       "  Text(0, 0, ''),\n",
       "  Text(0, 0, ''),\n",
       "  Text(0, 0, ''),\n",
       "  Text(0, 0, ''),\n",
       "  Text(0, 0, ''),\n",
       "  Text(0, 0, ''),\n",
       "  Text(0, 0, ''),\n",
       "  Text(0, 0, ''),\n",
       "  Text(0, 0, ''),\n",
       "  Text(0, 0, ''),\n",
       "  Text(0, 0, ''),\n",
       "  Text(0, 0, ''),\n",
       "  Text(0, 0, ''),\n",
       "  Text(0, 0, ''),\n",
       "  Text(0, 0, ''),\n",
       "  Text(0, 0, ''),\n",
       "  Text(0, 0, ''),\n",
       "  Text(0, 0, ''),\n",
       "  Text(0, 0, ''),\n",
       "  Text(0, 0, ''),\n",
       "  Text(0, 0, ''),\n",
       "  Text(0, 0, ''),\n",
       "  Text(0, 0, ''),\n",
       "  Text(0, 0, ''),\n",
       "  Text(0, 0, ''),\n",
       "  Text(0, 0, ''),\n",
       "  Text(0, 0, ''),\n",
       "  Text(0, 0, ''),\n",
       "  Text(0, 0, ''),\n",
       "  Text(0, 0, ''),\n",
       "  Text(0, 0, ''),\n",
       "  Text(0, 0, ''),\n",
       "  Text(0, 0, ''),\n",
       "  Text(0, 0, ''),\n",
       "  Text(0, 0, ''),\n",
       "  Text(0, 0, ''),\n",
       "  Text(0, 0, ''),\n",
       "  Text(0, 0, ''),\n",
       "  Text(0, 0, ''),\n",
       "  Text(0, 0, ''),\n",
       "  Text(0, 0, ''),\n",
       "  Text(0, 0, ''),\n",
       "  Text(0, 0, ''),\n",
       "  Text(0, 0, ''),\n",
       "  Text(0, 0, ''),\n",
       "  Text(0, 0, ''),\n",
       "  Text(0, 0, ''),\n",
       "  Text(0, 0, ''),\n",
       "  Text(0, 0, ''),\n",
       "  Text(0, 0, ''),\n",
       "  Text(0, 0, ''),\n",
       "  Text(0, 0, ''),\n",
       "  Text(0, 0, ''),\n",
       "  Text(0, 0, ''),\n",
       "  Text(0, 0, ''),\n",
       "  Text(0, 0, ''),\n",
       "  Text(0, 0, ''),\n",
       "  Text(0, 0, ''),\n",
       "  Text(0, 0, ''),\n",
       "  Text(0, 0, '')])"
      ]
     },
     "execution_count": 395,
     "metadata": {},
     "output_type": "execute_result"
    },
    {
     "data": {
      "image/png": "[encoded data removed]",
      "text/plain": [
       "<Figure size 1440x360 with 1 Axes>"
      ]
     },
     "metadata": {
      "needs_background": "light"
     },
     "output_type": "display_data"
    }
   ],
   "source": [
    "plt.figure(figsize = (20,5))\n",
    "plt.plot([-2,80],[10,10],'g',[-2,80],[20,20],'y',[-2,80],[26,26],'r')\n",
    "plt.bar(nan_count.index,nan_count['features_nan_sum_more_than_0.6'])\n",
    "plt.xticks(rotation=90)"
   ]
  },
  {
   "cell_type": "code",
   "execution_count": null,
   "id": "lasting-medicine",
   "metadata": {},
   "outputs": [],
   "source": []
  },
  {
   "cell_type": "code",
   "execution_count": null,
   "id": "proved-colony",
   "metadata": {},
   "outputs": [],
   "source": []
  },
  {
   "cell_type": "code",
   "execution_count": null,
   "id": "british-conditioning",
   "metadata": {},
   "outputs": [],
   "source": []
  },
  {
   "cell_type": "markdown",
   "id": "according-franklin",
   "metadata": {},
   "source": [
    "** **\n",
    "\n",
    "**Generate training Python scripts using sklearn for each model that accepts input data, sanitizes data and outputs model + ROC curve + features importance.**\n",
    "\n",
    "\n",
    "** **"
   ]
  },
  {
   "cell_type": "code",
   "execution_count": null,
   "id": "married-sellers",
   "metadata": {},
   "outputs": [],
   "source": []
  },
  {
   "cell_type": "code",
   "execution_count": null,
   "id": "sustained-pilot",
   "metadata": {},
   "outputs": [],
   "source": []
  },
  {
   "cell_type": "code",
   "execution_count": null,
   "id": "supreme-passing",
   "metadata": {},
   "outputs": [],
   "source": []
  },
  {
   "cell_type": "code",
   "execution_count": null,
   "id": "german-array",
   "metadata": {},
   "outputs": [],
   "source": []
  },
  {
   "cell_type": "markdown",
   "id": "charged-nursery",
   "metadata": {},
   "source": [
    "** **\n",
    "\n",
    "**Make script generic enough to work with any feature names and count (defined in external text file).**\n",
    "\n",
    "** ** "
   ]
  },
  {
   "cell_type": "code",
   "execution_count": null,
   "id": "central-purse",
   "metadata": {},
   "outputs": [],
   "source": []
  },
  {
   "cell_type": "code",
   "execution_count": null,
   "id": "worst-burns",
   "metadata": {},
   "outputs": [],
   "source": []
  },
  {
   "cell_type": "code",
   "execution_count": null,
   "id": "centered-footage",
   "metadata": {},
   "outputs": [],
   "source": []
  },
  {
   "cell_type": "code",
   "execution_count": null,
   "id": "collaborative-cardiff",
   "metadata": {},
   "outputs": [],
   "source": []
  },
  {
   "cell_type": "markdown",
   "id": "graduate-scratch",
   "metadata": {},
   "source": [
    "** **\n",
    "\n",
    "**Generate Prediction Python script (sklearn) that accepts never seen data (no labels, just features) and uses models above to generate prediction score.**\n",
    "\n",
    "** **"
   ]
  },
  {
   "cell_type": "code",
   "execution_count": null,
   "id": "dental-sessions",
   "metadata": {},
   "outputs": [],
   "source": []
  },
  {
   "cell_type": "code",
   "execution_count": null,
   "id": "industrial-qualification",
   "metadata": {},
   "outputs": [],
   "source": []
  },
  {
   "cell_type": "code",
   "execution_count": null,
   "id": "hydraulic-notebook",
   "metadata": {},
   "outputs": [],
   "source": []
  },
  {
   "cell_type": "code",
   "execution_count": null,
   "id": "animal-simple",
   "metadata": {},
   "outputs": [],
   "source": []
  }
 ],
 "metadata": {
  "kernelspec": {
   "display_name": "Python 3",
   "language": "python",
   "name": "python3"
  },
  "language_info": {
   "codemirror_mode": {
    "name": "ipython",
    "version": 3
   },
   "file_extension": ".py",
   "mimetype": "text/x-python",
   "name": "python",
   "nbconvert_exporter": "python",
   "pygments_lexer": "ipython3",
   "version": "3.7.1"
  }
 },
 "nbformat": 4,
 "nbformat_minor": 5
}
