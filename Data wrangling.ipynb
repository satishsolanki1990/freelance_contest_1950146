{
 "cells": [
  {
   "cell_type": "code",
   "execution_count": 3,
   "id": "asian-place",
   "metadata": {},
   "outputs": [],
   "source": [
    "# libraries\n",
    "\n",
    "import numpy as np\n",
    "import random\n",
    "import pandas as pd\n",
    "\n",
    "import warnings"
   ]
  },
  {
   "cell_type": "code",
   "execution_count": 4,
   "id": "southeast-enforcement",
   "metadata": {},
   "outputs": [],
   "source": [
    "# set warning off\n",
    "warnings.filterwarnings(\"ignore\")"
   ]
  },
  {
   "cell_type": "code",
   "execution_count": 5,
   "id": "minimal-caution",
   "metadata": {},
   "outputs": [],
   "source": [
    "#read data\n",
    "x=pd.read_csv('./model_data/features.csv')\n",
    "y=pd.read_csv('./model_data/labels.csv')"
   ]
  },
  {
   "cell_type": "markdown",
   "id": "placed-pavilion",
   "metadata": {},
   "source": [
    "### Check Balance of labels"
   ]
  },
  {
   "cell_type": "code",
   "execution_count": 5,
   "id": "disturbed-filling",
   "metadata": {},
   "outputs": [
    {
     "data": {
      "text/plain": [
       "1    589222\n",
       "0     62219\n",
       "Name: label, dtype: int64"
      ]
     },
     "execution_count": 5,
     "metadata": {},
     "output_type": "execute_result"
    }
   ],
   "source": [
    "y['label'].value_counts()"
   ]
  },
  {
   "cell_type": "markdown",
   "id": "sublime-might",
   "metadata": {},
   "source": [
    "This means data are highly imbalanced."
   ]
  },
  {
   "cell_type": "markdown",
   "id": "psychological-america",
   "metadata": {},
   "source": [
    "## Checking features and labels "
   ]
  },
  {
   "cell_type": "code",
   "execution_count": 6,
   "id": "greenhouse-profession",
   "metadata": {},
   "outputs": [
    {
     "data": {
      "text/plain": [
       "((1522116, 77), (651441, 2))"
      ]
     },
     "execution_count": 6,
     "metadata": {},
     "output_type": "execute_result"
    }
   ],
   "source": [
    "x.shape , y.shape"
   ]
  },
  {
   "cell_type": "markdown",
   "id": "unlikely-biotechnology",
   "metadata": {},
   "source": [
    "This means features and labels are not properly ordered and require proper order."
   ]
  },
  {
   "cell_type": "markdown",
   "id": "olympic-pickup",
   "metadata": {},
   "source": [
    "### checking duplicated"
   ]
  },
  {
   "cell_type": "code",
   "execution_count": 8,
   "id": "searching-throw",
   "metadata": {},
   "outputs": [
    {
     "data": {
      "text/plain": [
       "522663"
      ]
     },
     "execution_count": 8,
     "metadata": {},
     "output_type": "execute_result"
    }
   ],
   "source": [
    "x.duplicated().sum()"
   ]
  },
  {
   "cell_type": "code",
   "execution_count": 10,
   "id": "sophisticated-renewal",
   "metadata": {},
   "outputs": [
    {
     "data": {
      "text/plain": [
       "((651441, 2), (651441, 2))"
      ]
     },
     "execution_count": 10,
     "metadata": {},
     "output_type": "execute_result"
    }
   ],
   "source": [
    "y_=y[y.duplicated(keep='last')==False]\n",
    "y_.shape,y.shape"
   ]
  },
  {
   "cell_type": "markdown",
   "id": "vietnamese-threat",
   "metadata": {},
   "source": [
    "There are too many duplicates in features (i.e. x). But there are __no duplicates__ in labels"
   ]
  },
  {
   "cell_type": "markdown",
   "id": "circular-recovery",
   "metadata": {},
   "source": [
    "# Data cleaning:\n",
    "- Remove duplicates\n",
    "- Properly order features and labels using 'key'\n",
    "- Balance the data by duplicating data "
   ]
  },
  {
   "cell_type": "markdown",
   "id": "operational-fashion",
   "metadata": {},
   "source": [
    "### Remove duplicates\n",
    "Keeping only first data point. "
   ]
  },
  {
   "cell_type": "code",
   "execution_count": 9,
   "id": "respiratory-bernard",
   "metadata": {},
   "outputs": [
    {
     "data": {
      "text/plain": [
       "((999453, 77), (1522116, 77))"
      ]
     },
     "execution_count": 9,
     "metadata": {},
     "output_type": "execute_result"
    }
   ],
   "source": [
    "x_=x[x.duplicated(keep='last')==False]\n",
    "x_.shape,x.shape"
   ]
  },
  {
   "cell_type": "markdown",
   "id": "surprising-worship",
   "metadata": {},
   "source": [
    "### Order data as per 'key' values\n",
    "Using dictionary"
   ]
  },
  {
   "cell_type": "code",
   "execution_count": 11,
   "id": "smooth-october",
   "metadata": {},
   "outputs": [],
   "source": [
    "from collections import defaultdict\n",
    "from tqdm import tqdm"
   ]
  },
  {
   "cell_type": "code",
   "execution_count": 13,
   "id": "coordinate-aruba",
   "metadata": {},
   "outputs": [
    {
     "name": "stderr",
     "output_type": "stream",
     "text": [
      "100%|██████████| 999453/999453 [01:56<00:00, 8571.24it/s]\n"
     ]
    }
   ],
   "source": [
    "x_nokey=x_.loc[:,x_.columns != 'key']\n",
    "x_key=x_['key']\n",
    "x_dict = defaultdict()\n",
    "for i in tqdm(range(len(x_))):\n",
    "    k=x_key.iloc[i]\n",
    "    v=x_nokey.iloc[i]\n",
    "    x_dict[k]=list(v)"
   ]
  },
  {
   "cell_type": "code",
   "execution_count": 14,
   "id": "eastern-handbook",
   "metadata": {},
   "outputs": [
    {
     "data": {
      "text/plain": [
       "(999453, (999453, 77))"
      ]
     },
     "execution_count": 14,
     "metadata": {},
     "output_type": "execute_result"
    }
   ],
   "source": [
    "len(x_dict.keys()),x_.shape"
   ]
  },
  {
   "cell_type": "code",
   "execution_count": 15,
   "id": "received-wildlife",
   "metadata": {},
   "outputs": [
    {
     "name": "stderr",
     "output_type": "stream",
     "text": [
      "100%|██████████| 651441/651441 [00:19<00:00, 33196.31it/s]\n"
     ]
    }
   ],
   "source": [
    "data_dict = defaultdict()\n",
    "for i in tqdm(range(len(y))):\n",
    "    if y['key'][i] in x_dict:\n",
    "        x_dict[y['key'][i]].append(y['label'][i])\n",
    "        data_dict[y['key'][i]] = x_dict[y['key'][i]]"
   ]
  },
  {
   "cell_type": "code",
   "execution_count": 16,
   "id": "graphic-appendix",
   "metadata": {},
   "outputs": [],
   "source": [
    "data=pd.DataFrame.from_dict(data_dict, orient = 'index')"
   ]
  },
  {
   "cell_type": "code",
   "execution_count": 17,
   "id": "fresh-thriller",
   "metadata": {},
   "outputs": [
    {
     "data": {
      "text/plain": [
       "(650954, 77)"
      ]
     },
     "execution_count": 17,
     "metadata": {},
     "output_type": "execute_result"
    }
   ],
   "source": [
    "data.shape"
   ]
  },
  {
   "cell_type": "code",
   "execution_count": 19,
   "id": "tight-pillow",
   "metadata": {},
   "outputs": [
    {
     "data": {
      "text/html": [
       "<div>\n",
       "<style scoped>\n",
       "    .dataframe tbody tr th:only-of-type {\n",
       "        vertical-align: middle;\n",
       "    }\n",
       "\n",
       "    .dataframe tbody tr th {\n",
       "        vertical-align: top;\n",
       "    }\n",
       "\n",
       "    .dataframe thead th {\n",
       "        text-align: right;\n",
       "    }\n",
       "</style>\n",
       "<table border=\"1\" class=\"dataframe\">\n",
       "  <thead>\n",
       "    <tr style=\"text-align: right;\">\n",
       "      <th></th>\n",
       "      <th>0</th>\n",
       "      <th>1</th>\n",
       "      <th>2</th>\n",
       "      <th>3</th>\n",
       "      <th>4</th>\n",
       "      <th>5</th>\n",
       "      <th>6</th>\n",
       "      <th>7</th>\n",
       "      <th>8</th>\n",
       "      <th>9</th>\n",
       "      <th>...</th>\n",
       "      <th>67</th>\n",
       "      <th>68</th>\n",
       "      <th>69</th>\n",
       "      <th>70</th>\n",
       "      <th>71</th>\n",
       "      <th>72</th>\n",
       "      <th>73</th>\n",
       "      <th>74</th>\n",
       "      <th>75</th>\n",
       "      <th>76</th>\n",
       "    </tr>\n",
       "  </thead>\n",
       "  <tbody>\n",
       "    <tr>\n",
       "      <th>bba27b1fffbecb4f37400ec3368995e39dfabbce61422531a55a36c7696c33</th>\n",
       "      <td>0</td>\n",
       "      <td>1</td>\n",
       "      <td>1</td>\n",
       "      <td>1</td>\n",
       "      <td>1</td>\n",
       "      <td>1</td>\n",
       "      <td>0</td>\n",
       "      <td>1</td>\n",
       "      <td>0</td>\n",
       "      <td>1</td>\n",
       "      <td>...</td>\n",
       "      <td>1</td>\n",
       "      <td>1</td>\n",
       "      <td>1</td>\n",
       "      <td>1</td>\n",
       "      <td>1</td>\n",
       "      <td>1</td>\n",
       "      <td>1</td>\n",
       "      <td>0</td>\n",
       "      <td>0</td>\n",
       "      <td>1</td>\n",
       "    </tr>\n",
       "    <tr>\n",
       "      <th>41d66270e5a2bf2366d0804462f1f8609c5ecd83900f005dc64ece6ae965bb</th>\n",
       "      <td>0</td>\n",
       "      <td>1</td>\n",
       "      <td>0</td>\n",
       "      <td>1</td>\n",
       "      <td>0</td>\n",
       "      <td>1</td>\n",
       "      <td>0</td>\n",
       "      <td>0</td>\n",
       "      <td>1</td>\n",
       "      <td>1</td>\n",
       "      <td>...</td>\n",
       "      <td>1</td>\n",
       "      <td>0</td>\n",
       "      <td>0</td>\n",
       "      <td>0</td>\n",
       "      <td>1</td>\n",
       "      <td>0</td>\n",
       "      <td>0</td>\n",
       "      <td>1</td>\n",
       "      <td>0</td>\n",
       "      <td>1</td>\n",
       "    </tr>\n",
       "    <tr>\n",
       "      <th>995ac7bd74a6050bd4d0bcd7a891fd57ef7073ddd00accfd7ce37920a8d408</th>\n",
       "      <td>0</td>\n",
       "      <td>0</td>\n",
       "      <td>0</td>\n",
       "      <td>0</td>\n",
       "      <td>0</td>\n",
       "      <td>0</td>\n",
       "      <td>0</td>\n",
       "      <td>0</td>\n",
       "      <td>0</td>\n",
       "      <td>0</td>\n",
       "      <td>...</td>\n",
       "      <td>0</td>\n",
       "      <td>0</td>\n",
       "      <td>0</td>\n",
       "      <td>0</td>\n",
       "      <td>0</td>\n",
       "      <td>0</td>\n",
       "      <td>0</td>\n",
       "      <td>0</td>\n",
       "      <td>0</td>\n",
       "      <td>1</td>\n",
       "    </tr>\n",
       "    <tr>\n",
       "      <th>afb52fe7c13c652190c118f33f42402733766ae714fd4891ecd5def7b226bc</th>\n",
       "      <td>0</td>\n",
       "      <td>1</td>\n",
       "      <td>0</td>\n",
       "      <td>1</td>\n",
       "      <td>0</td>\n",
       "      <td>1</td>\n",
       "      <td>1</td>\n",
       "      <td>1</td>\n",
       "      <td>1</td>\n",
       "      <td>1</td>\n",
       "      <td>...</td>\n",
       "      <td>1</td>\n",
       "      <td>0</td>\n",
       "      <td>0</td>\n",
       "      <td>0</td>\n",
       "      <td>0</td>\n",
       "      <td>0</td>\n",
       "      <td>0</td>\n",
       "      <td>0</td>\n",
       "      <td>0</td>\n",
       "      <td>1</td>\n",
       "    </tr>\n",
       "    <tr>\n",
       "      <th>0aab946153a05d31cd98ffae63bd68a397745a66a03ed6e1d6199607489e37</th>\n",
       "      <td>1</td>\n",
       "      <td>1</td>\n",
       "      <td>0</td>\n",
       "      <td>1</td>\n",
       "      <td>0</td>\n",
       "      <td>1</td>\n",
       "      <td>0</td>\n",
       "      <td>1</td>\n",
       "      <td>1</td>\n",
       "      <td>1</td>\n",
       "      <td>...</td>\n",
       "      <td>1</td>\n",
       "      <td>1</td>\n",
       "      <td>1</td>\n",
       "      <td>0</td>\n",
       "      <td>0</td>\n",
       "      <td>1</td>\n",
       "      <td>1</td>\n",
       "      <td>1</td>\n",
       "      <td>0</td>\n",
       "      <td>1</td>\n",
       "    </tr>\n",
       "  </tbody>\n",
       "</table>\n",
       "<p>5 rows × 77 columns</p>\n",
       "</div>"
      ],
      "text/plain": [
       "                                                    0   1   2   3   4   5   \\\n",
       "bba27b1fffbecb4f37400ec3368995e39dfabbce6142253...   0   1   1   1   1   1   \n",
       "41d66270e5a2bf2366d0804462f1f8609c5ecd83900f005...   0   1   0   1   0   1   \n",
       "995ac7bd74a6050bd4d0bcd7a891fd57ef7073ddd00accf...   0   0   0   0   0   0   \n",
       "afb52fe7c13c652190c118f33f42402733766ae714fd489...   0   1   0   1   0   1   \n",
       "0aab946153a05d31cd98ffae63bd68a397745a66a03ed6e...   1   1   0   1   0   1   \n",
       "\n",
       "                                                    6   7   8   9   ...  67  \\\n",
       "bba27b1fffbecb4f37400ec3368995e39dfabbce6142253...   0   1   0   1  ...   1   \n",
       "41d66270e5a2bf2366d0804462f1f8609c5ecd83900f005...   0   0   1   1  ...   1   \n",
       "995ac7bd74a6050bd4d0bcd7a891fd57ef7073ddd00accf...   0   0   0   0  ...   0   \n",
       "afb52fe7c13c652190c118f33f42402733766ae714fd489...   1   1   1   1  ...   1   \n",
       "0aab946153a05d31cd98ffae63bd68a397745a66a03ed6e...   0   1   1   1  ...   1   \n",
       "\n",
       "                                                    68  69  70  71  72  73  \\\n",
       "bba27b1fffbecb4f37400ec3368995e39dfabbce6142253...   1   1   1   1   1   1   \n",
       "41d66270e5a2bf2366d0804462f1f8609c5ecd83900f005...   0   0   0   1   0   0   \n",
       "995ac7bd74a6050bd4d0bcd7a891fd57ef7073ddd00accf...   0   0   0   0   0   0   \n",
       "afb52fe7c13c652190c118f33f42402733766ae714fd489...   0   0   0   0   0   0   \n",
       "0aab946153a05d31cd98ffae63bd68a397745a66a03ed6e...   1   1   0   0   1   1   \n",
       "\n",
       "                                                    74  75  76  \n",
       "bba27b1fffbecb4f37400ec3368995e39dfabbce6142253...   0   0   1  \n",
       "41d66270e5a2bf2366d0804462f1f8609c5ecd83900f005...   1   0   1  \n",
       "995ac7bd74a6050bd4d0bcd7a891fd57ef7073ddd00accf...   0   0   1  \n",
       "afb52fe7c13c652190c118f33f42402733766ae714fd489...   0   0   1  \n",
       "0aab946153a05d31cd98ffae63bd68a397745a66a03ed6e...   1   0   1  \n",
       "\n",
       "[5 rows x 77 columns]"
      ]
     },
     "execution_count": 19,
     "metadata": {},
     "output_type": "execute_result"
    }
   ],
   "source": [
    "data.head()"
   ]
  },
  {
   "cell_type": "markdown",
   "id": "plain-surprise",
   "metadata": {},
   "source": [
    "### Balance the data \n",
    "\n",
    "Now try to make data more balanced by duplicating the data. At least both label should be near equal. Lets make 0 label 7 times."
   ]
  },
  {
   "cell_type": "code",
   "execution_count": 20,
   "id": "compliant-insulin",
   "metadata": {},
   "outputs": [
    {
     "data": {
      "text/plain": [
       "1    589001\n",
       "0     61953\n",
       "Name: 76, dtype: int64"
      ]
     },
     "execution_count": 20,
     "metadata": {},
     "output_type": "execute_result"
    }
   ],
   "source": [
    "data[76].value_counts()"
   ]
  },
  {
   "cell_type": "code",
   "execution_count": 21,
   "id": "tough-seeker",
   "metadata": {},
   "outputs": [
    {
     "data": {
      "text/plain": [
       "(61953, 77)"
      ]
     },
     "execution_count": 21,
     "metadata": {},
     "output_type": "execute_result"
    }
   ],
   "source": [
    "d_zeros = data[data[76]==0]\n",
    "d_zeros.shape"
   ]
  },
  {
   "cell_type": "code",
   "execution_count": 22,
   "id": "irish-virus",
   "metadata": {},
   "outputs": [],
   "source": [
    "data_balanced = pd.concat([d_zeros,data,d_zeros,d_zeros,d_zeros,d_zeros,d_zeros,d_zeros,])"
   ]
  },
  {
   "cell_type": "code",
   "execution_count": 24,
   "id": "hazardous-austin",
   "metadata": {},
   "outputs": [
    {
     "data": {
      "text/plain": [
       "(1084625, 77)"
      ]
     },
     "execution_count": 24,
     "metadata": {},
     "output_type": "execute_result"
    }
   ],
   "source": [
    "data_balanced.shape"
   ]
  },
  {
   "cell_type": "code",
   "execution_count": 26,
   "id": "dangerous-company",
   "metadata": {},
   "outputs": [
    {
     "data": {
      "text/plain": [
       "1    589001\n",
       "0    495624\n",
       "Name: 76, dtype: int64"
      ]
     },
     "execution_count": 26,
     "metadata": {},
     "output_type": "execute_result"
    }
   ],
   "source": [
    "data_balanced[76].value_counts()"
   ]
  },
  {
   "cell_type": "markdown",
   "id": "biblical-maryland",
   "metadata": {},
   "source": [
    "#### To avoid biasnes due to grouping occured in cocatenation operation, shuffle the rows."
   ]
  },
  {
   "cell_type": "code",
   "execution_count": 27,
   "id": "outstanding-skirt",
   "metadata": {},
   "outputs": [],
   "source": [
    "data_balanced = data_balanced.sample(frac=1)"
   ]
  },
  {
   "cell_type": "code",
   "execution_count": 28,
   "id": "developed-curve",
   "metadata": {},
   "outputs": [
    {
     "data": {
      "text/plain": [
       "(1084625, 77)"
      ]
     },
     "execution_count": 28,
     "metadata": {},
     "output_type": "execute_result"
    }
   ],
   "source": [
    "data_balanced.shape"
   ]
  },
  {
   "cell_type": "markdown",
   "id": "signed-spider",
   "metadata": {},
   "source": [
    "## save clean and balanced data"
   ]
  },
  {
   "cell_type": "code",
   "execution_count": 33,
   "id": "alien-silicon",
   "metadata": {},
   "outputs": [],
   "source": [
    "x_clean = data_balanced.iloc[:,0:76]\n",
    "y_clean = data_balanced.iloc[:,76]"
   ]
  },
  {
   "cell_type": "code",
   "execution_count": 34,
   "id": "union-survivor",
   "metadata": {},
   "outputs": [
    {
     "data": {
      "text/plain": [
       "((1084625, 76), (1084625,))"
      ]
     },
     "execution_count": 34,
     "metadata": {},
     "output_type": "execute_result"
    }
   ],
   "source": [
    "x_clean.shape , y_clean.shape"
   ]
  },
  {
   "cell_type": "code",
   "execution_count": 35,
   "id": "stunning-cliff",
   "metadata": {},
   "outputs": [],
   "source": [
    "x_clean.to_csv(r'./model_data/features_clean.csv', index = False, header = True)\n",
    "y_clean.to_csv(r'./model_data/labels_clean.csv', index = False, header = True)"
   ]
  }
 ],
 "metadata": {
  "kernelspec": {
   "display_name": "Python 3",
   "language": "python",
   "name": "python3"
  },
  "language_info": {
   "codemirror_mode": {
    "name": "ipython",
    "version": 3
   },
   "file_extension": ".py",
   "mimetype": "text/x-python",
   "name": "python",
   "nbconvert_exporter": "python",
   "pygments_lexer": "ipython3",
   "version": "3.8.10"
  }
 },
 "nbformat": 4,
 "nbformat_minor": 5
}
